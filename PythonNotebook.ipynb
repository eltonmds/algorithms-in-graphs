{
  "nbformat": 4,
  "nbformat_minor": 0,
  "metadata": {
    "colab": {
      "provenance": [],
      "include_colab_link": true
    },
    "kernelspec": {
      "name": "python3",
      "display_name": "Python 3"
    },
    "language_info": {
      "name": "python"
    }
  },
  "cells": [
    {
      "cell_type": "markdown",
      "metadata": {
        "id": "view-in-github",
        "colab_type": "text"
      },
      "source": [
        "<a href=\"https://colab.research.google.com/github/eltonmds/algorithms-in-graphs/blob/main/PythonNotebook.ipynb\" target=\"_parent\"><img src=\"https://colab.research.google.com/assets/colab-badge.svg\" alt=\"Open In Colab\"/></a>"
      ]
    },
    {
      "cell_type": "markdown",
      "source": [
        "# Notebooks em Python\n",
        "\n",
        "Você pode implementar seus EPs neste notebook.\n",
        "\n",
        "Lembre-se de testar os seus programas antes de submeter no Moodle.\n",
        "\n",
        "Para submeter o seu EP, use o botão EDITAR no Moodle: importante nomear o seu arquivo com extensão \".py\", ok?\n",
        "\n",
        "Depois de copiar (daqui do notebook) e colar o seu programa (lá no moodle), clique em SALVAR e depois AVALIAR para que seu ponto seja computado.\n",
        "\n",
        "Você pode verificar sua pontuação no Moodle pelo menu NOTAS."
      ],
      "metadata": {
        "id": "uG5cb6U33Qnk"
      }
    },
    {
      "cell_type": "code",
      "execution_count": null,
      "metadata": {
        "id": "LkB56N8KqVEf"
      },
      "outputs": [],
      "source": [
        "# leitura de dois inteiros separados por um espaco em branco\n",
        "n, m = (int(tmp) for tmp in input().split(\" \"))\n",
        "print (n, m)"
      ]
    },
    {
      "cell_type": "code",
      "source": [
        "texto = input()\n",
        "v = texto.split(\" \")\n",
        "v"
      ],
      "metadata": {
        "colab": {
          "base_uri": "https://localhost:8080/"
        },
        "id": "AkVo0W6eCO10",
        "outputId": "fdb16527-54cf-4e51-a9c6-13e579eaf2a0"
      },
      "execution_count": null,
      "outputs": [
        {
          "name": "stdout",
          "output_type": "stream",
          "text": [
            "5 10\n"
          ]
        },
        {
          "output_type": "execute_result",
          "data": {
            "text/plain": [
              "['5', '10']"
            ]
          },
          "metadata": {},
          "execution_count": 2
        }
      ]
    },
    {
      "cell_type": "code",
      "source": [
        "# cria matriz de zeros\n",
        "matriz = [[0 for col in range(5)] for row in range(5)]\n",
        "matriz"
      ],
      "metadata": {
        "id": "j28fBIGorjkt",
        "colab": {
          "base_uri": "https://localhost:8080/"
        },
        "outputId": "202ffa72-4adf-451d-e759-b73d64758938"
      },
      "execution_count": null,
      "outputs": [
        {
          "output_type": "execute_result",
          "data": {
            "text/plain": [
              "[[0, 0, 0, 0, 0],\n",
              " [0, 0, 0, 0, 0],\n",
              " [0, 0, 0, 0, 0],\n",
              " [0, 0, 0, 0, 0],\n",
              " [0, 0, 0, 0, 0]]"
            ]
          },
          "metadata": {},
          "execution_count": 4
        }
      ]
    },
    {
      "cell_type": "code",
      "source": [
        "# vetor de listas\n",
        "vetor = [[] for _ in range(5)]\n",
        "print (vetor)\n",
        "vetor[0].append (10)\n",
        "print (vetor)"
      ],
      "metadata": {
        "id": "0S0hivf-rmPU",
        "colab": {
          "base_uri": "https://localhost:8080/"
        },
        "outputId": "a5b349eb-9d6d-4b55-8c63-1ed6aaa5e83f"
      },
      "execution_count": null,
      "outputs": [
        {
          "output_type": "stream",
          "name": "stdout",
          "text": [
            "[[], [], [], [], []]\n",
            "[[10], [], [], [], []]\n"
          ]
        }
      ]
    },
    {
      "cell_type": "markdown",
      "source": [
        "# EP 01: leitura parâmetros de entrada\n",
        "\n",
        "Leitura de dois inteiros: n, m"
      ],
      "metadata": {
        "id": "6r3Er6WYCW0E"
      }
    },
    {
      "cell_type": "code",
      "source": [
        "# leitura de dois inteiros separados por um espaco em branco\n",
        "n, m = (int(tmp) for tmp in input().split(\" \"))\n",
        "print (n + m)"
      ],
      "metadata": {
        "id": "RANaml8BrmzW",
        "colab": {
          "base_uri": "https://localhost:8080/"
        },
        "outputId": "848aeef6-90ad-4182-a30f-61e9fc563d92"
      },
      "execution_count": null,
      "outputs": [
        {
          "output_type": "stream",
          "name": "stdout",
          "text": [
            "5 10\n",
            "15\n"
          ]
        }
      ]
    },
    {
      "cell_type": "code",
      "source": [
        "texto = input ()\n",
        "tmp = texto.split(\" \")\n",
        "print (tmp)\n",
        "n = int (tmp[0])\n",
        "m = int (tmp[1])\n",
        "print (n+m)"
      ],
      "metadata": {
        "id": "oDyeGKJwrj_s",
        "colab": {
          "base_uri": "https://localhost:8080/"
        },
        "outputId": "8fcfa3e9-7888-4d9d-c678-dc98b4a0ab71"
      },
      "execution_count": null,
      "outputs": [
        {
          "output_type": "stream",
          "name": "stdout",
          "text": [
            "5 10\n",
            "['5', '10']\n",
            "15\n"
          ]
        }
      ]
    },
    {
      "cell_type": "code",
      "source": [
        "n, m = (int(tmp) for tmp in input().split(\" \"))\n",
        "for k in range(m):\n",
        "  i, j = (int(tmp) for tmp in input().split(\" \"))"
      ],
      "metadata": {
        "id": "B4xlgpVWrkZM",
        "colab": {
          "base_uri": "https://localhost:8080/"
        },
        "outputId": "ed97f2be-d731-41ff-a145-e62803bb2e8b"
      },
      "execution_count": null,
      "outputs": [
        {
          "name": "stdout",
          "output_type": "stream",
          "text": [
            "5 4\n",
            "0 1\n",
            "0 2\n",
            "0 3\n",
            "0 4\n"
          ]
        }
      ]
    },
    {
      "cell_type": "markdown",
      "source": [
        "### Matriz\n",
        "\n",
        "Para armazenar o grafo em matriz de adjacências..."
      ],
      "metadata": {
        "id": "Fc2pDWtyC37T"
      }
    },
    {
      "cell_type": "code",
      "source": [
        "# cria matriz de zeros\n",
        "matriz = [[0 for col in range(5)] for row in range(3)]\n",
        "print (matriz)"
      ],
      "metadata": {
        "id": "Jz4nKeyprkuP",
        "colab": {
          "base_uri": "https://localhost:8080/"
        },
        "outputId": "0539e434-c404-4cfd-b694-ad95a9b98d04"
      },
      "execution_count": null,
      "outputs": [
        {
          "output_type": "stream",
          "name": "stdout",
          "text": [
            "[[0, 0, 0, 0, 0], [0, 0, 0, 0, 0], [0, 0, 0, 0, 0]]\n"
          ]
        }
      ]
    },
    {
      "cell_type": "code",
      "source": [
        "m = []  ### 3x5\n",
        "for i in range(3):\n",
        "  m.append([])\n",
        "  for j in range (5):\n",
        "    m[i].append (0);\n",
        "print (m)\n",
        "m[1][2] = 11\n",
        "print (m)"
      ],
      "metadata": {
        "colab": {
          "base_uri": "https://localhost:8080/"
        },
        "id": "u9P0nnlFC6Hw",
        "outputId": "78349db6-760e-4e03-8a33-37ccad7812b5"
      },
      "execution_count": null,
      "outputs": [
        {
          "output_type": "stream",
          "name": "stdout",
          "text": [
            "[[0, 0, 0, 0, 0], [0, 0, 0, 0, 0], [0, 0, 0, 0, 0]]\n",
            "[[0, 0, 0, 0, 0], [0, 0, 11, 0, 0], [0, 0, 0, 0, 0]]\n"
          ]
        }
      ]
    },
    {
      "cell_type": "markdown",
      "source": [
        "### Listas\n",
        "\n",
        "Para armazenar o grafo em listas de adjacências..."
      ],
      "metadata": {
        "id": "PG-DmVC9DIa6"
      }
    },
    {
      "cell_type": "code",
      "source": [
        "# vetor de listas\n",
        "vetor = [[] for _ in range(5)]\n",
        "print (vetor)\n",
        "vetor[0].append (10)\n",
        "print (vetor)"
      ],
      "metadata": {
        "colab": {
          "base_uri": "https://localhost:8080/"
        },
        "id": "-JUVizPpC6LT",
        "outputId": "85d299da-743e-471b-feca-6b59cf168abf"
      },
      "execution_count": null,
      "outputs": [
        {
          "output_type": "stream",
          "name": "stdout",
          "text": [
            "[[], [], [], [], []]\n",
            "[[10], [], [], [], []]\n"
          ]
        }
      ]
    },
    {
      "cell_type": "markdown",
      "source": [
        "### EP01 - leGrafo.py\n",
        "\n",
        "Armazenar o grafo em matriz ou vetor de listas de adjacências..."
      ],
      "metadata": {
        "id": "VpT3hUOBDRt6"
      }
    },
    {
      "cell_type": "code",
      "source": [
        "n, m = (int(tmp) for tmp in input().split(\" \"))\n",
        "matriz = [[0 for col in range(n)] for row in range(n)]\n",
        "for k in range(m):\n",
        "  i, j = (int(tmp) for tmp in input().split(\" \"))\n",
        "  matriz[i][j] = 1"
      ],
      "metadata": {
        "colab": {
          "base_uri": "https://localhost:8080/"
        },
        "id": "nGbuuxorDmdc",
        "outputId": "618eb403-bc9c-4d48-c0fd-cc52c71a5851"
      },
      "execution_count": null,
      "outputs": [
        {
          "name": "stdout",
          "output_type": "stream",
          "text": [
            "5 10\n",
            "0 1\n",
            "0 2\n",
            "0 3\n",
            "0 4\n",
            "1 2\n",
            "1 3\n",
            "1 4\n",
            "2 3\n",
            "2 4\n",
            "3 4\n"
          ]
        }
      ]
    },
    {
      "cell_type": "code",
      "source": [
        "matriz"
      ],
      "metadata": {
        "colab": {
          "base_uri": "https://localhost:8080/"
        },
        "id": "u3h65r4RDxbG",
        "outputId": "d1f27a73-dada-4c3f-d552-95252324a8af"
      },
      "execution_count": null,
      "outputs": [
        {
          "output_type": "execute_result",
          "data": {
            "text/plain": [
              "[[0, 1, 1, 1, 1],\n",
              " [0, 0, 1, 1, 1],\n",
              " [0, 0, 0, 1, 1],\n",
              " [0, 0, 0, 0, 1],\n",
              " [0, 0, 0, 0, 0]]"
            ]
          },
          "metadata": {},
          "execution_count": 10
        }
      ]
    },
    {
      "cell_type": "code",
      "source": [
        "n, m = (int(tmp) for tmp in input().split(\" \"))\n",
        "matriz = [[0 for col in range(n)] for row in range(n)]\n",
        "for k in range(m):\n",
        "  i, j = (int(tmp) for tmp in input().split(\" \"))\n",
        "  matriz[i][j] = 1\n",
        "#print (matriz)\n",
        "for i in range (n):\n",
        "  texto = \"%d: \" % i\n",
        "  for j in range (n):\n",
        "    if (matriz[i][j] ==  1):\n",
        "      texto += \"%d \" % j\n",
        "  print (texto)"
      ],
      "metadata": {
        "colab": {
          "base_uri": "https://localhost:8080/"
        },
        "id": "8D79AATNC6Os",
        "outputId": "924bb1ee-cd47-4b6e-ed7e-bd4aef6105d7"
      },
      "execution_count": null,
      "outputs": [
        {
          "output_type": "stream",
          "name": "stdout",
          "text": [
            "5 10\n",
            "0 1\n",
            "0 2\n",
            "0 3\n",
            "0 4\n",
            "1 2\n",
            "1 3\n",
            "1 4\n",
            "2 3\n",
            "2 4\n",
            "3 4\n",
            "0: 1 2 3 4 \n",
            "1: 2 3 4 \n",
            "2: 3 4 \n",
            "3: 4 \n",
            "4: \n"
          ]
        }
      ]
    },
    {
      "cell_type": "code",
      "source": [
        "for i in range (n):\n",
        "  texto = \"%d: \" % i\n",
        "  for j in range (n):\n",
        "    if (matriz[i][j] ==  1):\n",
        "      texto += \"%d \" % j\n",
        "  print (texto)"
      ],
      "metadata": {
        "colab": {
          "base_uri": "https://localhost:8080/"
        },
        "id": "IUOQA77qD9eK",
        "outputId": "23456c75-f7a5-4219-c3c7-a270a42e488a"
      },
      "execution_count": null,
      "outputs": [
        {
          "output_type": "stream",
          "name": "stdout",
          "text": [
            "0: 1 2 3 4 \n",
            "1: 2 3 4 \n",
            "2: 3 4 \n",
            "3: 4 \n",
            "4: \n"
          ]
        }
      ]
    },
    {
      "cell_type": "code",
      "source": [],
      "metadata": {
        "id": "uYNrnd2sC6SH"
      },
      "execution_count": null,
      "outputs": []
    },
    {
      "cell_type": "code",
      "source": [],
      "metadata": {
        "id": "k3DyQO_2C6VM"
      },
      "execution_count": null,
      "outputs": []
    },
    {
      "cell_type": "code",
      "source": [],
      "metadata": {
        "id": "oZ8Kc4ohrlHG"
      },
      "execution_count": null,
      "outputs": []
    }
  ]
}